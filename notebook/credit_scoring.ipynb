{
 "cells": [
  {
   "cell_type": "code",
   "execution_count": 2,
   "metadata": {},
   "outputs": [],
   "source": [
    "import pandas as pd\n",
    "import os, sys"
   ]
  },
  {
   "cell_type": "code",
   "execution_count": 5,
   "metadata": {},
   "outputs": [],
   "source": [
    "working_dir = os.getcwd()\n",
    "parrent_dir = os.path.dirname(working_dir)\n",
    "sys.path.insert(0,parrent_dir)"
   ]
  },
  {
   "cell_type": "code",
   "execution_count": 4,
   "metadata": {},
   "outputs": [
    {
     "data": {
      "text/plain": [
       "'c:\\\\Users\\\\Abreham\\\\Documents\\\\Ml_projects\\\\Bati-bank-credit-scoring\\\\scripts'"
      ]
     },
     "execution_count": 4,
     "metadata": {},
     "output_type": "execute_result"
    }
   ],
   "source": [
    "os.path.join(os.path.dirname(working_dir), 'scripts')"
   ]
  },
  {
   "cell_type": "code",
   "execution_count": null,
   "metadata": {},
   "outputs": [],
   "source": [
    "# notebook_dir = os.getcwd()  # Get the directory of the current notebook\n",
    "# script_dir = os.path.join(notebook_dir) \n",
    "# script_dir"
   ]
  },
  {
   "cell_type": "code",
   "execution_count": 6,
   "metadata": {},
   "outputs": [],
   "source": [
    "file_path = os.path.join('../datasets/', 'data.xlsx')"
   ]
  },
  {
   "cell_type": "code",
   "execution_count": 8,
   "metadata": {},
   "outputs": [],
   "source": [
    "from scripts.eda_Pipeline import EDAPipeline"
   ]
  },
  {
   "cell_type": "code",
   "execution_count": 9,
   "metadata": {},
   "outputs": [
    {
     "name": "stderr",
     "output_type": "stream",
     "text": [
      "2025-01-25 10:20:53,655 - INFO - Loading data from: ../datasets/data.xlsx\n",
      "2025-01-25 10:21:10,202 - INFO - Data loaded successfully with shape: (95662, 16)\n"
     ]
    }
   ],
   "source": [
    "pipeline = EDAPipeline()\n",
    "df = pipeline.load_data(file_path)"
   ]
  },
  {
   "cell_type": "code",
   "execution_count": 10,
   "metadata": {},
   "outputs": [
    {
     "data": {
      "text/html": [
       "<div>\n",
       "<style scoped>\n",
       "    .dataframe tbody tr th:only-of-type {\n",
       "        vertical-align: middle;\n",
       "    }\n",
       "\n",
       "    .dataframe tbody tr th {\n",
       "        vertical-align: top;\n",
       "    }\n",
       "\n",
       "    .dataframe thead th {\n",
       "        text-align: right;\n",
       "    }\n",
       "</style>\n",
       "<table border=\"1\" class=\"dataframe\">\n",
       "  <thead>\n",
       "    <tr style=\"text-align: right;\">\n",
       "      <th></th>\n",
       "      <th>TransactionId</th>\n",
       "      <th>BatchId</th>\n",
       "      <th>AccountId</th>\n",
       "      <th>SubscriptionId</th>\n",
       "      <th>CustomerId</th>\n",
       "      <th>CurrencyCode</th>\n",
       "      <th>CountryCode</th>\n",
       "      <th>ProviderId</th>\n",
       "      <th>ProductId</th>\n",
       "      <th>ProductCategory</th>\n",
       "      <th>ChannelId</th>\n",
       "      <th>Amount</th>\n",
       "      <th>Value</th>\n",
       "      <th>TransactionStartTime</th>\n",
       "      <th>PricingStrategy</th>\n",
       "      <th>FraudResult</th>\n",
       "    </tr>\n",
       "  </thead>\n",
       "  <tbody>\n",
       "    <tr>\n",
       "      <th>0</th>\n",
       "      <td>TransactionId_76871</td>\n",
       "      <td>BatchId_36123</td>\n",
       "      <td>AccountId_3957</td>\n",
       "      <td>SubscriptionId_887</td>\n",
       "      <td>CustomerId_4406</td>\n",
       "      <td>UGX</td>\n",
       "      <td>256.0</td>\n",
       "      <td>ProviderId_6</td>\n",
       "      <td>ProductId_10</td>\n",
       "      <td>airtime</td>\n",
       "      <td>ChannelId_3</td>\n",
       "      <td>1000.0</td>\n",
       "      <td>1000.0</td>\n",
       "      <td>2018-11-15T02:18:49Z</td>\n",
       "      <td>2.0</td>\n",
       "      <td>0</td>\n",
       "    </tr>\n",
       "    <tr>\n",
       "      <th>1</th>\n",
       "      <td>TransactionId_73770</td>\n",
       "      <td>BatchId_15642</td>\n",
       "      <td>AccountId_4841</td>\n",
       "      <td>SubscriptionId_3829</td>\n",
       "      <td>CustomerId_4406</td>\n",
       "      <td>UGX</td>\n",
       "      <td>NaN</td>\n",
       "      <td>ProviderId_4</td>\n",
       "      <td>ProductId_6</td>\n",
       "      <td>financial_services</td>\n",
       "      <td>ChannelId_2</td>\n",
       "      <td>3679.0</td>\n",
       "      <td>20.0</td>\n",
       "      <td>2018-11-15T02:19:08Z</td>\n",
       "      <td>2.0</td>\n",
       "      <td>0</td>\n",
       "    </tr>\n",
       "    <tr>\n",
       "      <th>2</th>\n",
       "      <td>TransactionId_26203</td>\n",
       "      <td>BatchId_53941</td>\n",
       "      <td>AccountId_4229</td>\n",
       "      <td>SubscriptionId_222</td>\n",
       "      <td>CustomerId_4683</td>\n",
       "      <td>UGX</td>\n",
       "      <td>256.0</td>\n",
       "      <td>NaN</td>\n",
       "      <td>ProductId_1</td>\n",
       "      <td>airtime</td>\n",
       "      <td>ChannelId_3</td>\n",
       "      <td>500.0</td>\n",
       "      <td>500.0</td>\n",
       "      <td>2018-11-15T02:44:21Z</td>\n",
       "      <td>2.0</td>\n",
       "      <td>0</td>\n",
       "    </tr>\n",
       "    <tr>\n",
       "      <th>3</th>\n",
       "      <td>TransactionId_380</td>\n",
       "      <td>BatchId_102363</td>\n",
       "      <td>AccountId_648</td>\n",
       "      <td>SubscriptionId_2185</td>\n",
       "      <td>CustomerId_988</td>\n",
       "      <td>UGX</td>\n",
       "      <td>256.0</td>\n",
       "      <td>ProviderId_1</td>\n",
       "      <td>ProductId_21</td>\n",
       "      <td>utility_bill</td>\n",
       "      <td>ChannelId_3</td>\n",
       "      <td>20000.0</td>\n",
       "      <td>NaN</td>\n",
       "      <td>2018-11-15T03:32:55Z</td>\n",
       "      <td>2.0</td>\n",
       "      <td>0</td>\n",
       "    </tr>\n",
       "    <tr>\n",
       "      <th>4</th>\n",
       "      <td>TransactionId_28195</td>\n",
       "      <td>BatchId_38780</td>\n",
       "      <td>AccountId_4841</td>\n",
       "      <td>SubscriptionId_3829</td>\n",
       "      <td>CustomerId_988</td>\n",
       "      <td>UGX</td>\n",
       "      <td>NaN</td>\n",
       "      <td>ProviderId_4</td>\n",
       "      <td>ProductId_6</td>\n",
       "      <td>financial_services</td>\n",
       "      <td>ChannelId_2</td>\n",
       "      <td>-644.0</td>\n",
       "      <td>644.0</td>\n",
       "      <td>2018-11-15T03:34:21Z</td>\n",
       "      <td>2.0</td>\n",
       "      <td>0</td>\n",
       "    </tr>\n",
       "  </tbody>\n",
       "</table>\n",
       "</div>"
      ],
      "text/plain": [
       "         TransactionId         BatchId       AccountId       SubscriptionId  \\\n",
       "0  TransactionId_76871   BatchId_36123  AccountId_3957   SubscriptionId_887   \n",
       "1  TransactionId_73770   BatchId_15642  AccountId_4841  SubscriptionId_3829   \n",
       "2  TransactionId_26203   BatchId_53941  AccountId_4229   SubscriptionId_222   \n",
       "3    TransactionId_380  BatchId_102363   AccountId_648  SubscriptionId_2185   \n",
       "4  TransactionId_28195   BatchId_38780  AccountId_4841  SubscriptionId_3829   \n",
       "\n",
       "        CustomerId CurrencyCode  CountryCode    ProviderId     ProductId  \\\n",
       "0  CustomerId_4406          UGX        256.0  ProviderId_6  ProductId_10   \n",
       "1  CustomerId_4406          UGX          NaN  ProviderId_4   ProductId_6   \n",
       "2  CustomerId_4683          UGX        256.0           NaN   ProductId_1   \n",
       "3   CustomerId_988          UGX        256.0  ProviderId_1  ProductId_21   \n",
       "4   CustomerId_988          UGX          NaN  ProviderId_4   ProductId_6   \n",
       "\n",
       "      ProductCategory    ChannelId   Amount   Value  TransactionStartTime  \\\n",
       "0             airtime  ChannelId_3   1000.0  1000.0  2018-11-15T02:18:49Z   \n",
       "1  financial_services  ChannelId_2   3679.0    20.0  2018-11-15T02:19:08Z   \n",
       "2             airtime  ChannelId_3    500.0   500.0  2018-11-15T02:44:21Z   \n",
       "3        utility_bill  ChannelId_3  20000.0     NaN  2018-11-15T03:32:55Z   \n",
       "4  financial_services  ChannelId_2   -644.0   644.0  2018-11-15T03:34:21Z   \n",
       "\n",
       "   PricingStrategy  FraudResult  \n",
       "0              2.0            0  \n",
       "1              2.0            0  \n",
       "2              2.0            0  \n",
       "3              2.0            0  \n",
       "4              2.0            0  "
      ]
     },
     "execution_count": 10,
     "metadata": {},
     "output_type": "execute_result"
    }
   ],
   "source": [
    "df.head()"
   ]
  },
  {
   "cell_type": "code",
   "execution_count": 11,
   "metadata": {},
   "outputs": [
    {
     "name": "stderr",
     "output_type": "stream",
     "text": [
      "2025-01-25 10:21:17,013 - INFO - Identifying missing values\n",
      "2025-01-25 10:21:17,014 - INFO - Missing Values:\n",
      "TransactionId           0\n",
      "BatchId                 0\n",
      "AccountId               2\n",
      "SubscriptionId          0\n",
      "CustomerId              0\n",
      "CurrencyCode            0\n",
      "CountryCode             2\n",
      "ProviderId              2\n",
      "ProductId               0\n",
      "ProductCategory         0\n",
      "ChannelId               0\n",
      "Amount                  0\n",
      "Value                   3\n",
      "TransactionStartTime    1\n",
      "PricingStrategy         3\n",
      "FraudResult             0\n",
      "dtype: int64\n",
      "2025-01-25 10:21:17,015 - INFO - Missing Values:\n",
      "TransactionId           0.000000\n",
      "BatchId                 0.000000\n",
      "AccountId               0.002091\n",
      "SubscriptionId          0.000000\n",
      "CustomerId              0.000000\n",
      "CurrencyCode            0.000000\n",
      "CountryCode             0.002091\n",
      "ProviderId              0.002091\n",
      "ProductId               0.000000\n",
      "ProductCategory         0.000000\n",
      "ChannelId               0.000000\n",
      "Amount                  0.000000\n",
      "Value                   0.003136\n",
      "TransactionStartTime    0.001045\n",
      "PricingStrategy         0.003136\n",
      "FraudResult             0.000000\n",
      "dtype: float64\n"
     ]
    }
   ],
   "source": [
    "pipeline.identify_missing_values(df)"
   ]
  },
  {
   "cell_type": "code",
   "execution_count": 12,
   "metadata": {},
   "outputs": [
    {
     "name": "stderr",
     "output_type": "stream",
     "text": [
      "2025-01-25 10:21:36,372 - INFO - Performing summary statistics\n",
      "2025-01-25 10:21:36,372 - INFO - Number of rows: 95662\n",
      "2025-01-25 10:21:36,373 - INFO - Number of columns: 16\n",
      "2025-01-25 10:21:36,375 - INFO - Data types: \n",
      "TransactionId            object\n",
      "BatchId                  object\n",
      "AccountId                object\n",
      "SubscriptionId           object\n",
      "CustomerId               object\n",
      "CurrencyCode             object\n",
      "CountryCode             float64\n",
      "ProviderId               object\n",
      "ProductId                object\n",
      "ProductCategory          object\n",
      "ChannelId                object\n",
      "Amount                  float64\n",
      "Value                   float64\n",
      "TransactionStartTime     object\n",
      "PricingStrategy         float64\n",
      "FraudResult               int64\n",
      "dtype: object\n",
      "2025-01-25 10:21:36,380 - INFO - First 5 rows of the DataFrame:\n",
      "         TransactionId         BatchId       AccountId       SubscriptionId  \\\n",
      "0  TransactionId_76871   BatchId_36123  AccountId_3957   SubscriptionId_887   \n",
      "1  TransactionId_73770   BatchId_15642  AccountId_4841  SubscriptionId_3829   \n",
      "2  TransactionId_26203   BatchId_53941  AccountId_4229   SubscriptionId_222   \n",
      "3    TransactionId_380  BatchId_102363   AccountId_648  SubscriptionId_2185   \n",
      "4  TransactionId_28195   BatchId_38780  AccountId_4841  SubscriptionId_3829   \n",
      "\n",
      "        CustomerId CurrencyCode  CountryCode    ProviderId     ProductId  \\\n",
      "0  CustomerId_4406          UGX        256.0  ProviderId_6  ProductId_10   \n",
      "1  CustomerId_4406          UGX          NaN  ProviderId_4   ProductId_6   \n",
      "2  CustomerId_4683          UGX        256.0           NaN   ProductId_1   \n",
      "3   CustomerId_988          UGX        256.0  ProviderId_1  ProductId_21   \n",
      "4   CustomerId_988          UGX          NaN  ProviderId_4   ProductId_6   \n",
      "\n",
      "      ProductCategory    ChannelId   Amount   Value  TransactionStartTime  \\\n",
      "0             airtime  ChannelId_3   1000.0  1000.0  2018-11-15T02:18:49Z   \n",
      "1  financial_services  ChannelId_2   3679.0    20.0  2018-11-15T02:19:08Z   \n",
      "2             airtime  ChannelId_3    500.0   500.0  2018-11-15T02:44:21Z   \n",
      "3        utility_bill  ChannelId_3  20000.0     NaN  2018-11-15T03:32:55Z   \n",
      "4  financial_services  ChannelId_2   -644.0   644.0  2018-11-15T03:34:21Z   \n",
      "\n",
      "   PricingStrategy  FraudResult  \n",
      "0              2.0            0  \n",
      "1              2.0            0  \n",
      "2              2.0            0  \n",
      "3              2.0            0  \n",
      "4              2.0            0  \n",
      "2025-01-25 10:21:36,421 - INFO - Summary statistics of numerical features:\n",
      "       CountryCode        Amount         Value  PricingStrategy   FraudResult\n",
      "count      95660.0  9.566200e+04  9.565900e+04     95659.000000  95662.000000\n",
      "mean         256.0  6.718072e+03  9.900640e+03         2.255899      0.002018\n",
      "std            0.0  1.233068e+05  1.231240e+05         0.732849      0.044872\n",
      "min          256.0 -1.000000e+06  2.000000e+00         0.000000      0.000000\n",
      "25%          256.0 -5.000000e+01  2.750000e+02         2.000000      0.000000\n",
      "50%          256.0  1.000000e+03  1.000000e+03         2.000000      0.000000\n",
      "75%          256.0  2.800000e+03  5.000000e+03         2.000000      0.000000\n",
      "max          256.0  9.880000e+06  9.880000e+06         4.000000      1.000000\n"
     ]
    }
   ],
   "source": [
    "pipeline.summarize_data(df)"
   ]
  },
  {
   "cell_type": "code",
   "execution_count": 9,
   "metadata": {},
   "outputs": [
    {
     "name": "stderr",
     "output_type": "stream",
     "text": [
      "2025-01-25 10:02:02,387 - INFO - Performing correlation analysis\n"
     ]
    },
    {
     "data": {
      "image/png": "[encoded data removed]",
      "text/plain": [
       "<Figure size 1000x800 with 2 Axes>"
      ]
     },
     "metadata": {},
     "output_type": "display_data"
    }
   ],
   "source": [
    "pipeline.analyze_correlation(df)"
   ]
  },
  {
   "cell_type": "code",
   "execution_count": null,
   "metadata": {},
   "outputs": [],
   "source": [
    "pipeline.visualize_categorical_features(df)"
   ]
  },
  {
   "cell_type": "code",
   "execution_count": null,
   "metadata": {},
   "outputs": [],
   "source": [
    "pipeline.visualize_numerical_features(df)"
   ]
  }
 ],
 "metadata": {
  "kernelspec": {
   "display_name": ".venv",
   "language": "python",
   "name": "python3"
  },
  "language_info": {
   "codemirror_mode": {
    "name": "ipython",
    "version": 3
   },
   "file_extension": ".py",
   "mimetype": "text/x-python",
   "name": "python",
   "nbconvert_exporter": "python",
   "pygments_lexer": "ipython3",
   "version": "3.11.9"
  }
 },
 "nbformat": 4,
 "nbformat_minor": 2
}
